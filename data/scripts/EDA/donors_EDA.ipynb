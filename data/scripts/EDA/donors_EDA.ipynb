{
 "cells": [
  {
   "cell_type": "code",
   "execution_count": 39,
   "metadata": {},
   "outputs": [],
   "source": [
    "import pandas as pd\n",
    "df = pd.read_csv(\"../../cleaned/humanitarian/grouped_donor.csv\")\n",
    "df2 = pd.read_csv(\"../../cleaned/humanitarian/grouped_funding_req.csv\")"
   ]
  },
  {
   "cell_type": "code",
   "execution_count": 35,
   "metadata": {},
   "outputs": [
    {
     "data": {
      "text/html": [
       "<div>\n",
       "<style scoped>\n",
       "    .dataframe tbody tr th:only-of-type {\n",
       "        vertical-align: middle;\n",
       "    }\n",
       "\n",
       "    .dataframe tbody tr th {\n",
       "        vertical-align: top;\n",
       "    }\n",
       "\n",
       "    .dataframe thead th {\n",
       "        text-align: right;\n",
       "    }\n",
       "</style>\n",
       "<table border=\"1\" class=\"dataframe\">\n",
       "  <thead>\n",
       "    <tr style=\"text-align: right;\">\n",
       "      <th></th>\n",
       "      <th>Unnamed: 0</th>\n",
       "      <th>year</th>\n",
       "      <th>srcOrganization</th>\n",
       "      <th>cluster</th>\n",
       "      <th>amountUSD</th>\n",
       "    </tr>\n",
       "  </thead>\n",
       "  <tbody>\n",
       "    <tr>\n",
       "      <th>0</th>\n",
       "      <td>0</td>\n",
       "      <td>2021.0</td>\n",
       "      <td>European Commission's Humanitarian Aid and Civ...</td>\n",
       "      <td>Multiple Sectors</td>\n",
       "      <td>13366153.0</td>\n",
       "    </tr>\n",
       "    <tr>\n",
       "      <th>1</th>\n",
       "      <td>1</td>\n",
       "      <td>2021.0</td>\n",
       "      <td>Germany, Government of</td>\n",
       "      <td>Multiple Sectors</td>\n",
       "      <td>26451405.0</td>\n",
       "    </tr>\n",
       "    <tr>\n",
       "      <th>2</th>\n",
       "      <td>2</td>\n",
       "      <td>2021.0</td>\n",
       "      <td>Japan, Government of</td>\n",
       "      <td>Multiple Sectors</td>\n",
       "      <td>2000000.0</td>\n",
       "    </tr>\n",
       "    <tr>\n",
       "      <th>3</th>\n",
       "      <td>3</td>\n",
       "      <td>2022.0</td>\n",
       "      <td>Australia, Government of</td>\n",
       "      <td>Multiple Sectors</td>\n",
       "      <td>7730148.0</td>\n",
       "    </tr>\n",
       "    <tr>\n",
       "      <th>4</th>\n",
       "      <td>4</td>\n",
       "      <td>2022.0</td>\n",
       "      <td>Central Emergency Response Fund</td>\n",
       "      <td>water sanitation hygiene</td>\n",
       "      <td>3000000.0</td>\n",
       "    </tr>\n",
       "  </tbody>\n",
       "</table>\n",
       "</div>"
      ],
      "text/plain": [
       "   Unnamed: 0    year                                    srcOrganization  \\\n",
       "0           0  2021.0  European Commission's Humanitarian Aid and Civ...   \n",
       "1           1  2021.0                             Germany, Government of   \n",
       "2           2  2021.0                               Japan, Government of   \n",
       "3           3  2022.0                           Australia, Government of   \n",
       "4           4  2022.0                    Central Emergency Response Fund   \n",
       "\n",
       "                    cluster   amountUSD  \n",
       "0          Multiple Sectors  13366153.0  \n",
       "1          Multiple Sectors  26451405.0  \n",
       "2          Multiple Sectors   2000000.0  \n",
       "3          Multiple Sectors   7730148.0  \n",
       "4  water sanitation hygiene   3000000.0  "
      ]
     },
     "execution_count": 35,
     "metadata": {},
     "output_type": "execute_result"
    }
   ],
   "source": [
    "df.head()"
   ]
  },
  {
   "cell_type": "code",
   "execution_count": 36,
   "metadata": {},
   "outputs": [],
   "source": [
    "categories = df.groupby('cluster')['amountUSD'].sum().sort_values(ascending=False).reset_index()\n",
    "categories['cluster'] = categories['cluster'].str.lower().str.strip().str.replace(\"and\", \"&\").drop_duplicates()"
   ]
  },
  {
   "cell_type": "code",
   "execution_count": 40,
   "metadata": {},
   "outputs": [
    {
     "data": {
      "text/plain": [
       "0                     Multiple Sectors\n",
       "1                        Not Specified\n",
       "10               Agricultural Recovery\n",
       "11         Food Security & Agriculture\n",
       "12                              Health\n",
       "15                           Nutrition\n",
       "16                          Protection\n",
       "17         Water, Sanitation & Hygiene\n",
       "18                     Common Services\n",
       "19                           Education\n",
       "20                   Emergency Shelter\n",
       "21        Emergency Telecommunications\n",
       "40     Coordination & Support Services\n",
       "57                           Logistics\n",
       "93                            Aviation\n",
       "102             Refugees And Returnees\n",
       "103                               Wash\n",
       "107           Education In Emergencies\n",
       "115                    Refugee Chapter\n",
       "Name: cluster, dtype: object"
      ]
     },
     "execution_count": 40,
     "metadata": {},
     "output_type": "execute_result"
    }
   ],
   "source": [
    "df2['cluster'].drop_duplicates()"
   ]
  },
  {
   "cell_type": "code",
   "execution_count": null,
   "metadata": {},
   "outputs": [],
   "source": [
    "repl_values = {\n",
    "   \"Coordination and support services\": \"Coordination & Support Services\",\n",
    "   \"Protection - Mine Action\": \"Protection\",\n",
    "   \"Multi-sector\": \"Multiple Sectors\",\n",
    "   \"Food Security\": \"Food Security & Agriculture\",\n",
    "   \"Emergency Shelter and NFI\": \"Emergency Shelter\",\n",
    "   \"Protection - Child Protection\": \"Protection\",\n",
    "   \"Protection - Gender-Based Violence\": \"Protection\",\n",
    "   \"Water Sanitation Hygiene\": \"Water, Sanitation & Hygiene\"\n",
    "}"
   ]
  },
  {
   "cell_type": "code",
   "execution_count": 41,
   "metadata": {},
   "outputs": [
    {
     "data": {
      "text/plain": [
       "0                    Multiple Sectors\n",
       "6                           Logistics\n",
       "8                           Nutrition\n",
       "9             Emergency Shelter & NFI\n",
       "10                             Health\n",
       "13                          Education\n",
       "14        Food Security & Agriculture\n",
       "18                         Protection\n",
       "21    Coordination & support services\n",
       "Name: cluster, dtype: object"
      ]
     },
     "execution_count": 41,
     "metadata": {},
     "output_type": "execute_result"
    }
   ],
   "source": [
    "multi = []\n",
    "for i in df['cluster']:\n",
    "    if \",\" in i:\n",
    "        multi.append(\"Multiple Sectors\")\n",
    "    else:\n",
    "        multi.append(i)\n",
    "df['cluster'] = multi\n",
    "df['cluster'].drop_duplicates()"
   ]
  }
 ],
 "metadata": {
  "kernelspec": {
   "display_name": "Python 3.9.7 ('base')",
   "language": "python",
   "name": "python3"
  },
  "language_info": {
   "codemirror_mode": {
    "name": "ipython",
    "version": 3
   },
   "file_extension": ".py",
   "mimetype": "text/x-python",
   "name": "python",
   "nbconvert_exporter": "python",
   "pygments_lexer": "ipython3",
   "version": "3.9.7"
  },
  "orig_nbformat": 4,
  "vscode": {
   "interpreter": {
    "hash": "40d3a090f54c6569ab1632332b64b2c03c39dcf918b08424e98f38b5ae0af88f"
   }
  }
 },
 "nbformat": 4,
 "nbformat_minor": 2
}
